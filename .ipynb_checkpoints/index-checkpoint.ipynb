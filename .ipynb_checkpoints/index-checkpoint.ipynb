{
 "cells": [
  {
   "cell_type": "markdown",
   "metadata": {},
   "source": [
    "# Probability of road conditions\n",
    "<img src=\"roads.jpg\" alt=\"Image of roads\" width=\"500\"/>"
   ]
  },
  {
   "cell_type": "code",
   "execution_count": 1,
   "metadata": {},
   "outputs": [
    {
     "data": {
      "text/html": [
       "<div>\n",
       "<style scoped>\n",
       "    .dataframe tbody tr th:only-of-type {\n",
       "        vertical-align: middle;\n",
       "    }\n",
       "\n",
       "    .dataframe tbody tr th {\n",
       "        vertical-align: top;\n",
       "    }\n",
       "\n",
       "    .dataframe thead th {\n",
       "        text-align: right;\n",
       "    }\n",
       "</style>\n",
       "<table border=\"1\" class=\"dataframe\">\n",
       "  <thead>\n",
       "    <tr style=\"text-align: right;\">\n",
       "      <th></th>\n",
       "      <th>Clear</th>\n",
       "      <th>Wet</th>\n",
       "      <th>Icy</th>\n",
       "    </tr>\n",
       "  </thead>\n",
       "  <tbody>\n",
       "    <tr>\n",
       "      <th>Clear</th>\n",
       "      <td>180</td>\n",
       "      <td>15</td>\n",
       "      <td>0</td>\n",
       "    </tr>\n",
       "    <tr>\n",
       "      <th>Wet</th>\n",
       "      <td>30</td>\n",
       "      <td>40</td>\n",
       "      <td>27</td>\n",
       "    </tr>\n",
       "    <tr>\n",
       "      <th>Icy</th>\n",
       "      <td>0</td>\n",
       "      <td>22</td>\n",
       "      <td>51</td>\n",
       "    </tr>\n",
       "  </tbody>\n",
       "</table>\n",
       "</div>"
      ],
      "text/plain": [
       "       Clear  Wet  Icy\n",
       "Clear    180   15    0\n",
       "Wet       30   40   27\n",
       "Icy        0   22   51"
      ]
     },
     "execution_count": 1,
     "metadata": {},
     "output_type": "execute_result"
    }
   ],
   "source": [
    "# Run this cell unchanged\n",
    "import pandas as pd\n",
    "from test_background import pkl_dump, test_obj_dict, run_test_dict, run_test\n",
    "\n",
    "data = [{'Clear': 180, 'Wet': 15, 'Icy': 0},\n",
    "       {'Clear': 30, 'Wet': 40, 'Icy': 27},\n",
    "       {'Clear': 0, 'Wet': 22, 'Icy': 51}]\n",
    "\n",
    "df = pd.DataFrame(data, index = ['Clear', 'Wet', 'Icy'])\n",
    "df.head()"
   ]
  },
  {
   "cell_type": "markdown",
   "metadata": {
    "ExecuteTime": {
     "end_time": "2020-06-02T02:54:12.530981Z",
     "start_time": "2020-06-02T02:54:12.523178Z"
    }
   },
   "source": [
    "**The above dataframe** represents the joint road conditions for two neighboring streets over a time frame of 365 days. \n",
    "\n",
    "The index represents `Street 1` and the columns represent `Street  2`\n",
    "\n",
    "The values represent the number of days the two road conditions for each street occurred on the same day.\n",
    ">ie. There were 15 days out of 365 that `Street 1` had Clear conditions and `Street 2` had Wet conditions"
   ]
  },
  {
   "cell_type": "markdown",
   "metadata": {},
   "source": [
    "## Question 1"
   ]
  },
  {
   "cell_type": "markdown",
   "metadata": {},
   "source": [
    "What is the probability of there being Clear conditions on street 1 and clear conditions on street 2?\n",
    "\n",
    "> When solving probability problems, the language is usually very important. In this case, the word `and` is used. \n",
    "\n",
    "> Here, we can use the conditional probability formula: $P(B|A) = P(A\\space and\\space B)/P(A)$, but the terms in the formula will need to be moved around first!"
   ]
  },
  {
   "cell_type": "code",
   "execution_count": 15,
   "metadata": {
    "ExecuteTime": {
     "end_time": "2021-01-12T14:44:21.614810Z",
     "start_time": "2021-01-12T14:44:21.610682Z"
    }
   },
   "outputs": [
    {
     "data": {
      "text/plain": [
       "0.4931506849315069"
      ]
     },
     "execution_count": 15,
     "metadata": {},
     "output_type": "execute_result"
    }
   ],
   "source": [
    "# P(A and B) = P(B|A) * P(A)\n",
    "# P(Clear 1 and clear 2) = P(Clear 2|Clear 1) * P(Clear 1)\n",
    "# P(Clear 2|Clear 1) = 180/195\n",
    "# P(Clear 1) = 195/365\n",
    "clear_street1_clear_street2 = (180/195) * (195/365)\n",
    "clear_street1_clear_street2"
   ]
  },
  {
   "cell_type": "markdown",
   "metadata": {},
   "source": [
    "## Question 2\n",
    "\n",
    "What is the probability of it not being Icy on `Street1` and Icy on `Street2`?\n",
    "\n",
    "$P(Street1 ∈ {Clear ∪ Wet} ∩ Street2=Icy)$"
   ]
  },
  {
   "cell_type": "code",
   "execution_count": 23,
   "metadata": {
    "ExecuteTime": {
     "end_time": "2021-01-12T14:44:37.161038Z",
     "start_time": "2021-01-12T14:44:37.156298Z"
    }
   },
   "outputs": [
    {
     "data": {
      "text/plain": [
       "0.07397260273972603"
      ]
     },
     "execution_count": 23,
     "metadata": {},
     "output_type": "execute_result"
    }
   ],
   "source": [
    "# P(A and B) = P(B|A) * P(A)\n",
    "# P(1 = {Clear, Wet} and 2 = {Icy})\n",
    "# P(1 Clear or Wet and 2 Icy) = P(2 Icy| 1 Clear or Wet) * P(1 Clear or Wet)\n",
    "# P(2 Icy | 1 Clear or Wet) = 27/292\n",
    "# P(1 Clear or Wet) = 292/365\n",
    "not_icy_street1_icy_street2 = (27/292) * (292/365)\n",
    "not_icy_street1_icy_street2"
   ]
  },
  {
   "cell_type": "markdown",
   "metadata": {},
   "source": [
    "## Question 3"
   ]
  },
  {
   "cell_type": "markdown",
   "metadata": {},
   "source": [
    "What is the probability of it being Clear on `Street2` <u>regardless of the conditions</u> on `Street1`?\n",
    "\n",
    "$$P(Street2=Clear) =$$ \n",
    "$$P(Street2=Clear ∩ Street1=Clear) + $$\n",
    "$$P(Street2=Clear ∩ Street1=Wet)+ $$\n",
    "$$P(Street2=Clear ∩ Street1=Icy)$$"
   ]
  },
  {
   "cell_type": "code",
   "execution_count": 4,
   "metadata": {
    "ExecuteTime": {
     "end_time": "2021-01-12T14:48:42.303228Z",
     "start_time": "2021-01-12T14:48:42.298224Z"
    }
   },
   "outputs": [
    {
     "data": {
      "text/plain": [
       "0.5753424657534246"
      ]
     },
     "execution_count": 4,
     "metadata": {},
     "output_type": "execute_result"
    }
   ],
   "source": [
    "clear_street2 = df.Clear.sum()/365\n",
    "clear_street2"
   ]
  },
  {
   "cell_type": "markdown",
   "metadata": {},
   "source": [
    "## Question 4\n",
    "\n",
    "What is the probability  of it being Clear on ```Street1``` given that it is Clear on ```Street2```?\n",
    "\n",
    "$P(Street1=Clear|Street2=Clear) = \\displaystyle \\frac{P(Street1=Clear∩Street2=Clear)}{P(Street2=Clear)}$"
   ]
  },
  {
   "cell_type": "code",
   "execution_count": 25,
   "metadata": {
    "ExecuteTime": {
     "end_time": "2021-01-12T14:48:43.674998Z",
     "start_time": "2021-01-12T14:48:43.665057Z"
    }
   },
   "outputs": [
    {
     "data": {
      "text/plain": [
       "0.8571428571428571"
      ]
     },
     "execution_count": 25,
     "metadata": {},
     "output_type": "execute_result"
    }
   ],
   "source": [
    "# P(B|A) = P(A and B)/P(A)\n",
    "# P(1 Clear|2 Clear) = P(1 Clear and 2 Clear)/P(2 Clear)\n",
    "# P(1 Clear and 2 Clear) = 180/365\n",
    "# P(2 Clear) = 210/365\n",
    "clear_street1_given_clear_street2 = (180/365)/(210/365)\n",
    "clear_street1_given_clear_street2"
   ]
  },
  {
   "cell_type": "markdown",
   "metadata": {
    "ExecuteTime": {
     "end_time": "2020-06-02T02:45:51.728741Z",
     "start_time": "2020-06-02T02:45:51.723087Z"
    }
   },
   "source": [
    "clear_street1_clear_street2df.loc['Clear'].sum()## Question 5\n",
    "\n",
    "What is the probability of it being Clear on `Street2` given that it is Clear on `Street1`?\n",
    "\n",
    "$P(Street2=Clear|Street1=Clear) = \\displaystyle \\frac{P(Street2=Clear∩Street1=Clear)}{P(Street1=Clear)}$"
   ]
  },
  {
   "cell_type": "code",
   "execution_count": 27,
   "metadata": {
    "ExecuteTime": {
     "end_time": "2021-01-12T14:51:54.258572Z",
     "start_time": "2021-01-12T14:51:54.252758Z"
    }
   },
   "outputs": [
    {
     "data": {
      "text/plain": [
       "0.923076923076923"
      ]
     },
     "execution_count": 27,
     "metadata": {},
     "output_type": "execute_result"
    }
   ],
   "source": [
    "# P(B|A) = P(A and B)/P(A)\n",
    "# P(2 Clear| 1 Clear) = P(2 Clear and 1 Clear)/P(1 Clear)\n",
    "# P(2 Clear and 1 Clear) = 180/365\n",
    "# P(1 Clear) = 195/365\n",
    "clear_street2_given_clear_street1 = (180/365)/(195/365)\n",
    "clear_street2_given_clear_street1"
   ]
  },
  {
   "cell_type": "markdown",
   "metadata": {},
   "source": [
    "# Card Combinatorics\n",
    "\n",
    "<img src=\"https://www.denofgeek.com/wp-content/uploads/2020/06/magic-the-gathering-competitive-decks.jpg?fit=1200%2C675\" width=\"600px;\">"
   ]
  },
  {
   "cell_type": "markdown",
   "metadata": {},
   "source": [
    "## Question 6\n",
    "\n",
    "The rules for the card game Magic the Gathering are as followed:\n",
    "\n",
    "* A player can have a maximum of 7 cards in their hand\n",
    "* A deck must have 60 cards\n",
    "\n",
    "In the cell below, calculate the number of possible 7 card combinations from a deck containing 60 cards."
   ]
  },
  {
   "cell_type": "code",
   "execution_count": 7,
   "metadata": {},
   "outputs": [
    {
     "data": {
      "text/plain": [
       "386206920.0"
      ]
     },
     "execution_count": 7,
     "metadata": {},
     "output_type": "execute_result"
    }
   ],
   "source": [
    "from math import factorial\n",
    "\n",
    "factorial(60)/(factorial(60-7) * factorial(7))"
   ]
  },
  {
   "cell_type": "markdown",
   "metadata": {},
   "source": [
    "## Question 7\n",
    "\n",
    "A standard magic the gathering deck has 60 cards in total, and is made up of 24 land cards and 36 magic cards.\n",
    "\n",
    "Given a hand of seven hards, how many possible hand combinations exists that contain exactly two lands?"
   ]
  },
  {
   "cell_type": "code",
   "execution_count": 28,
   "metadata": {},
   "outputs": [
    {
     "data": {
      "text/plain": [
       "104049792.0"
      ]
     },
     "execution_count": 28,
     "metadata": {},
     "output_type": "execute_result"
    }
   ],
   "source": [
    "def nchoosek(n, k):\n",
    "    return factorial(n)/(factorial(n-k) * factorial(k))\n",
    "\n",
    "deck_count = 60\n",
    "hand_size = 7\n",
    "land_count = 24\n",
    "magic_count = 36\n",
    "lands_in_hand = 2\n",
    "magic_in_hand = hand_size - lands_in_hand\n",
    "\n",
    "\n",
    "nchoosek(land_count, lands_in_hand) * nchoosek(magic_count, magic_in_hand)"
   ]
  },
  {
   "cell_type": "markdown",
   "metadata": {},
   "source": [
    "## Question 8\n",
    "\n",
    "Given a hand of seven cards, what is the probability of drawing a hand with 2 *or more* land cards?\n",
    "\n",
    "*Hint:* If you're stuck, check out [this thread](https://www.quora.com/How-many-different-hands-can-be-dealt-that-contain-3-aces-A-hand-of-five-cards-is-dealt-from-a-pack-of-52-playing-cards#:~:text=The%20number%20of%20ways%20to%20draw%20two%20Aces%20from%20four,*6*44%20%3D%201%2C584.)\n",
    "\n",
    "\n",
    "We can solve this a couple ways. \n",
    "\n",
    "1. We can find the number of possible hands that can have 2-7 lands and divide by the total number of possible hands\n",
    "2. We can find the number of possible hands that have 1-2 lands, subtract that number from the total, and divide by the total number of possible hands."
   ]
  },
  {
   "cell_type": "markdown",
   "metadata": {},
   "source": [
    "**Solution 1:**"
   ]
  },
  {
   "cell_type": "code",
   "execution_count": 42,
   "metadata": {},
   "outputs": [
    {
     "data": {
      "text/plain": [
       "0.8573441200898213"
      ]
     },
     "execution_count": 42,
     "metadata": {},
     "output_type": "execute_result"
    }
   ],
   "source": [
    "# Establish our contextualizing parameters\n",
    "deck_count = 60\n",
    "hand_size = 7\n",
    "land_count = 24\n",
    "magic_count = 36\n",
    "\n",
    "# Instantiate a variable to keep track of the number\n",
    "# of possible hands for an x number of lands\n",
    "matching_hands = 0\n",
    "\n",
    "# Loop over the numbers 2,3,4,5,6,7\n",
    "for num_lands in range(2, 8):\n",
    "    # Calculate the number of magic cards\n",
    "    # By subtracting the number of lands\n",
    "    # from the total size of the hand\n",
    "    magic_in_hand = hand_size - num_lands\n",
    "    # Calculate the number of matching hands\n",
    "    matching_hands += nchoosek(land_count, num_lands) * nchoosek(magic_count, magic_in_hand)\n",
    "# Caclulate the total number of possible hands\n",
    "total_hands = nchoosek(deck_count, hand_size)\n",
    "# Calculate the probability of a hand with >= 2 lands\n",
    "matching_hands/total_hands"
   ]
  },
  {
   "cell_type": "markdown",
   "metadata": {},
   "source": [
    "**Solution 2:**"
   ]
  },
  {
   "cell_type": "code",
   "execution_count": 46,
   "metadata": {},
   "outputs": [
    {
     "data": {
      "text/plain": [
       "0.8573441200898213"
      ]
     },
     "execution_count": 46,
     "metadata": {},
     "output_type": "execute_result"
    }
   ],
   "source": [
    "# The number of hands with exactly one land\n",
    "possible_hands_lands_1 = nchoosek(magic_count, 6) * nchoosek(land_count, 1)\n",
    "# The number of hands with exactly 0 lands\n",
    "possible_hands_lands_0 = nchoosek(magic_count, 7) * nchoosek(land_count, 0)\n",
    "# The number of hands with <= 1 land\n",
    "total_opposite_outcomes = possible_hands_lands_1 + possible_hands_lands_0\n",
    "# The total number of possible hands\n",
    "total_hands = nchoosek(60, 7)\n",
    "# The number of events with >= 2 lands\n",
    "total_matching_outcomes = total_hands - total_opposite_outcomes\n",
    "# Probability of a hand with >= 2 lands\n",
    "total_matching_outcomes/total_hands"
   ]
  }
 ],
 "metadata": {
  "hide_input": false,
  "kernelspec": {
   "display_name": "Python 3",
   "language": "python",
   "name": "python3"
  },
  "language_info": {
   "codemirror_mode": {
    "name": "ipython",
    "version": 3
   },
   "file_extension": ".py",
   "mimetype": "text/x-python",
   "name": "python",
   "nbconvert_exporter": "python",
   "pygments_lexer": "ipython3",
   "version": "3.7.4"
  },
  "toc": {
   "base_numbering": 1,
   "nav_menu": {},
   "number_sections": false,
   "sideBar": true,
   "skip_h1_title": true,
   "title_cell": "Table of Contents",
   "title_sidebar": "Contents",
   "toc_cell": false,
   "toc_position": {},
   "toc_section_display": true,
   "toc_window_display": false
  },
  "varInspector": {
   "cols": {
    "lenName": 16,
    "lenType": 16,
    "lenVar": 40
   },
   "kernels_config": {
    "python": {
     "delete_cmd_postfix": "",
     "delete_cmd_prefix": "del ",
     "library": "var_list.py",
     "varRefreshCmd": "print(var_dic_list())"
    },
    "r": {
     "delete_cmd_postfix": ") ",
     "delete_cmd_prefix": "rm(",
     "library": "var_list.r",
     "varRefreshCmd": "cat(var_dic_list()) "
    }
   },
   "types_to_exclude": [
    "module",
    "function",
    "builtin_function_or_method",
    "instance",
    "_Feature"
   ],
   "window_display": false
  }
 },
 "nbformat": 4,
 "nbformat_minor": 4
}
